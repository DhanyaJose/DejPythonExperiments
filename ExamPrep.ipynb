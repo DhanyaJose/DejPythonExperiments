{
 "cells": [
  {
   "cell_type": "markdown",
   "id": "de528ecc",
   "metadata": {},
   "source": [
    "# 1. Even or Odd\n",
    "Print 'Even' or 'Odd' based on whether the number is even or odd"
   ]
  },
  {
   "cell_type": "code",
   "execution_count": 4,
   "id": "ca2930f9",
   "metadata": {},
   "outputs": [
    {
     "name": "stdout",
     "output_type": "stream",
     "text": [
      "10\n"
     ]
    }
   ],
   "source": [
    "num = int(input())"
   ]
  },
  {
   "cell_type": "code",
   "execution_count": 5,
   "id": "9733e0ea",
   "metadata": {},
   "outputs": [
    {
     "name": "stdout",
     "output_type": "stream",
     "text": [
      "Even\n"
     ]
    }
   ],
   "source": [
    "if num % 2 == 0:\n",
    "    print('Even')\n",
    "else:\n",
    "    print('Odd')"
   ]
  },
  {
   "cell_type": "markdown",
   "id": "40799ec0",
   "metadata": {},
   "source": [
    "# 2. Beautiful Number\n",
    "A number k is beautiful if it is of the form 3n+1, is pretty if it is of the form 3n+2 and is sexy if it is of form 3n.\n",
    "Given a number k, print if it is beautiful, pretty or sexy."
   ]
  },
  {
   "cell_type": "code",
   "execution_count": 7,
   "id": "84bf5f0b",
   "metadata": {},
   "outputs": [],
   "source": [
    "def beauti_number(l):\n",
    "    if l%3 == 0:\n",
    "        print('Sexy')\n",
    "    elif l%3 == 1:\n",
    "        print('Beautiful')\n",
    "    else:\n",
    "        print('Pretty')\n"
   ]
  },
  {
   "cell_type": "code",
   "execution_count": 10,
   "id": "3958dc9b",
   "metadata": {},
   "outputs": [
    {
     "name": "stdout",
     "output_type": "stream",
     "text": [
      "38\n",
      "Pretty\n"
     ]
    }
   ],
   "source": [
    "k = int(input())\n",
    "beauti_number(k)"
   ]
  },
  {
   "cell_type": "code",
   "execution_count": null,
   "id": "2424e0b4",
   "metadata": {},
   "outputs": [],
   "source": []
  },
  {
   "cell_type": "markdown",
   "id": "05497c6e",
   "metadata": {},
   "source": [
    "# 3. Alarm clock Problem"
   ]
  },
  {
   "cell_type": "markdown",
   "id": "6285f0b9",
   "metadata": {},
   "source": [
    "You're trying to automate your alarm clock by writing a function for it. You're given a day of the week encoded as 1=Mon, 2=Tue, ... 6=Sat, 7=Sun, and whether you are on vacation as a boolean value (a boolean object is either True or False. Google \"booleans python\" to get a better understanding). Based on the day and whether you're on vacation, write a function that returns a time in form of a string indicating when the alarm clock should ring. \n",
    "\n",
    "When not on a vacation, on weekdays, the alarm should ring at \"7:00\" and on the weekends (Saturday and Sunday) it should ring at \"10:00\". \n",
    "\n",
    "While on a vacation, it should ring at \"10:00\" on weekdays. On vacation, it should not ring on weekends, that is, it should return \"off\"."
   ]
  },
  {
   "cell_type": "code",
   "execution_count": 15,
   "id": "ab8ebfc3",
   "metadata": {},
   "outputs": [
    {
     "name": "stdout",
     "output_type": "stream",
     "text": [
      "1\n",
      "2\n",
      "3\n",
      "4\n",
      "5\n"
     ]
    }
   ],
   "source": [
    "for i in range(1,6):\n",
    "    print(i)"
   ]
  },
  {
   "cell_type": "code",
   "execution_count": 70,
   "id": "ca3b9672",
   "metadata": {},
   "outputs": [],
   "source": [
    "def alarm_time(day, vacation):\n",
    "    week_days = [1,2,3,4,5]\n",
    "    print(bool(vacation))\n",
    "    if (day in week_days) and vacation :\n",
    "        print('here 1')\n",
    "        return \"10:00\"\n",
    "    elif (day in week_days) and not vacation :\n",
    "        return \"7:00\"\n",
    "    elif day in [6,7] and vacation:\n",
    "        return \"off\"\n",
    "    else :\n",
    "        print('else')\n",
    "        return \"10:00\""
   ]
  },
  {
   "cell_type": "code",
   "execution_count": 76,
   "id": "1189a5e0",
   "metadata": {},
   "outputs": [
    {
     "name": "stdout",
     "output_type": "stream",
     "text": [
      "6, True\n",
      "True\n"
     ]
    },
    {
     "data": {
      "text/plain": [
       "'off'"
      ]
     },
     "execution_count": 76,
     "metadata": {},
     "output_type": "execute_result"
    }
   ],
   "source": [
    "import ast\n",
    "input_str = input()\n",
    "input_list = ast.literal_eval(input_str)\n",
    "day_of_the_week = input_list[0] #first element is an integer denoting the day of the week\n",
    "is_on_vacation = input_list[1]\n",
    "\n",
    "alarm_time(day_of_the_week, is_on_vacation)"
   ]
  },
  {
   "cell_type": "markdown",
   "id": "2e4303d0",
   "metadata": {},
   "source": [
    "# 4. Factorial Problem\n",
    "Factorial is a mathematical function denoted by '!'. It is defined as\n",
    "\n",
    "n factorial = n!= 1*2*3...*(n-1)*n\n",
    "\n",
    "In this question, you have to make a function that will take an integer as input, and return the factorial of that integer if that integer is greater than or equal to zero and return -1 if the number is less than zero or negative.\n",
    "\n",
    "Note: the function doesn't return print the factorial but returns it."
   ]
  },
  {
   "cell_type": "code",
   "execution_count": 84,
   "id": "47e42c59",
   "metadata": {},
   "outputs": [
    {
     "data": {
      "text/plain": [
       "6"
      ]
     },
     "execution_count": 84,
     "metadata": {},
     "output_type": "execute_result"
    }
   ],
   "source": [
    "def factorial(n):\n",
    "    if n < 0:\n",
    "        return -1   \n",
    "    elif n > 0:\n",
    "        return n * factorial(n-1)\n",
    "    else:\n",
    "        return 1\n",
    "\n",
    "        \n",
    "factorial(-9)\n"
   ]
  },
  {
   "cell_type": "code",
   "execution_count": 85,
   "id": "a2d6e8da",
   "metadata": {},
   "outputs": [
    {
     "data": {
      "text/plain": [
       "6"
      ]
     },
     "execution_count": 85,
     "metadata": {},
     "output_type": "execute_result"
    }
   ],
   "source": [
    "factorial(3)"
   ]
  },
  {
   "cell_type": "code",
   "execution_count": 86,
   "id": "2f33c1d3",
   "metadata": {},
   "outputs": [
    {
     "data": {
      "text/plain": [
       "1"
      ]
     },
     "execution_count": 86,
     "metadata": {},
     "output_type": "execute_result"
    }
   ],
   "source": [
    "factorial(0)"
   ]
  },
  {
   "cell_type": "markdown",
   "id": "cf55c42b",
   "metadata": {},
   "source": [
    "# 5. Reverse The Digits\n",
    "Description -> You will be given a number. You have to reverse the digits of the number and print it."
   ]
  },
  {
   "cell_type": "code",
   "execution_count": 109,
   "id": "ac5d27f1",
   "metadata": {},
   "outputs": [],
   "source": [
    "n = 5009"
   ]
  },
  {
   "cell_type": "code",
   "execution_count": 110,
   "id": "0b5703aa",
   "metadata": {},
   "outputs": [
    {
     "name": "stdout",
     "output_type": "stream",
     "text": [
      "9005\n"
     ]
    }
   ],
   "source": [
    "r = 0\n",
    "while n > 0 :\n",
    "    r = r*10 + n%10\n",
    "    n = n//10\n",
    "print(r)\n",
    "    "
   ]
  },
  {
   "cell_type": "markdown",
   "id": "9f5976b5",
   "metadata": {},
   "source": [
    "# 6.How Many Chocolates?\n",
    "This question is actually a puzzle that some of you must have solved as a kid. Let's say you have m Rupees and one chocolate costs rupees c. The shopkeeper will give you a bar of chocolate for free if you give him 3 wrappers. Can you determine how many chocolates can you get with the m Rupees you have?"
   ]
  },
  {
   "cell_type": "code",
   "execution_count": 115,
   "id": "d53ae822",
   "metadata": {},
   "outputs": [
    {
     "name": "stdout",
     "output_type": "stream",
     "text": [
      "4\n"
     ]
    }
   ],
   "source": [
    "total = 3\n",
    "choc_price = 1\n",
    "num_wrapper = 3\n",
    "\n",
    "num_chocs = total // choc_price #7\n",
    "final_chocs = num_chocs\n",
    "while num_chocs >= num_wrapper: #7>3\n",
    "    final_chocs += num_chocs // num_wrapper #7+2\n",
    "    num_chocs = (num_chocs // num_wrapper) + (num_of_chocs % num_wrapper) #7%3\n",
    "    \n",
    "    \n",
    "print(final_chocs)"
   ]
  },
  {
   "cell_type": "markdown",
   "id": "f467f7ee",
   "metadata": {},
   "source": [
    "# 7. Print The Pattern\n",
    "## Description\n",
    "Printing different patterns is a very good exercise to reinforce iteration through loops and strong logic building. Here you will be given a positive integer and you will generate pattern based on that integer.\n",
    "\n",
    "----------------------------------------------------------------------\n",
    "Input:\n",
    "A positive integer n\n",
    "1 <= n <=20\n",
    "\n",
    "Output:\n",
    "A pattern as described by the Sample input and outputs below.\n",
    "\n",
    "----------------------------------------------------------------------\n",
    "Sample input:\n",
    "5\n"
   ]
  },
  {
   "cell_type": "code",
   "execution_count": 124,
   "id": "05ca346e",
   "metadata": {},
   "outputs": [
    {
     "data": {
      "text/plain": [
       "'\\n\\nSample output:\\n\\n\\n    *\\n   *_*\\n  *_*_*\\n *_*_*_*\\n*_*_*_*_*\\n\\n'"
      ]
     },
     "execution_count": 124,
     "metadata": {},
     "output_type": "execute_result"
    }
   ],
   "source": [
    "\"\"\"\n",
    "\n",
    "Sample output:\n",
    "\n",
    "\n",
    "    *\n",
    "   *_*\n",
    "  *_*_*\n",
    " *_*_*_*\n",
    "*_*_*_*_*\n",
    "\n",
    "\"\"\""
   ]
  },
  {
   "cell_type": "code",
   "execution_count": 147,
   "id": "7a00daf8",
   "metadata": {},
   "outputs": [
    {
     "name": "stdout",
     "output_type": "stream",
     "text": [
      "                   *\n",
      "                  *_*\n",
      "                 *_*_*\n",
      "                *_*_*_*\n",
      "               *_*_*_*_*\n",
      "              *_*_*_*_*_*\n",
      "             *_*_*_*_*_*_*\n",
      "            *_*_*_*_*_*_*_*\n",
      "           *_*_*_*_*_*_*_*_*\n",
      "          *_*_*_*_*_*_*_*_*_*\n",
      "         *_*_*_*_*_*_*_*_*_*_*\n",
      "        *_*_*_*_*_*_*_*_*_*_*_*\n",
      "       *_*_*_*_*_*_*_*_*_*_*_*_*\n",
      "      *_*_*_*_*_*_*_*_*_*_*_*_*_*\n",
      "     *_*_*_*_*_*_*_*_*_*_*_*_*_*_*\n",
      "    *_*_*_*_*_*_*_*_*_*_*_*_*_*_*_*\n",
      "   *_*_*_*_*_*_*_*_*_*_*_*_*_*_*_*_*\n",
      "  *_*_*_*_*_*_*_*_*_*_*_*_*_*_*_*_*_*\n",
      " *_*_*_*_*_*_*_*_*_*_*_*_*_*_*_*_*_*_*\n",
      "*_*_*_*_*_*_*_*_*_*_*_*_*_*_*_*_*_*_*_*\n",
      "                    |                    \n",
      "                    |                    \n",
      "                    |                    \n",
      "                    |                    \n",
      "                    |                    \n",
      "                    |                    \n",
      "                    |                    \n",
      "                    |                    \n",
      "                    |                    \n",
      "                    |                    \n"
     ]
    }
   ],
   "source": [
    "num = 20\n",
    "for i in range(1, num+1):\n",
    "    for j in range(num-i):\n",
    "        print(\" \",end=\"\")\n",
    "    for k in range(i-1):\n",
    "        print(\"*_\",end=\"\")\n",
    "    print(\"*\")\n",
    "    \n",
    "newnum = 2*num \n",
    "for i in range(num//2):\n",
    "    for j in range(newnum//2):\n",
    "        print(\" \",end=\"\")\n",
    "    print('|',end=\"\")\n",
    "    for j in range(newnum//2):\n",
    "        print(\" \",end=\"\")\n",
    "    print()\n",
    "\n",
    "\n"
   ]
  },
  {
   "cell_type": "code",
   "execution_count": null,
   "id": "9a311683",
   "metadata": {},
   "outputs": [],
   "source": []
  }
 ],
 "metadata": {
  "kernelspec": {
   "display_name": "Python 3",
   "language": "python",
   "name": "python3"
  },
  "language_info": {
   "codemirror_mode": {
    "name": "ipython",
    "version": 3
   },
   "file_extension": ".py",
   "mimetype": "text/x-python",
   "name": "python",
   "nbconvert_exporter": "python",
   "pygments_lexer": "ipython3",
   "version": "3.8.8"
  }
 },
 "nbformat": 4,
 "nbformat_minor": 5
}
