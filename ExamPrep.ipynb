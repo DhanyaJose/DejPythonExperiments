{
 "cells": [
  {
   "cell_type": "markdown",
   "id": "de528ecc",
   "metadata": {},
   "source": [
    "# 1. Even or Odd\n",
    "Print 'Even' or 'Odd' based on whether the number is even or odd"
   ]
  },
  {
   "cell_type": "code",
   "execution_count": 4,
   "id": "ca2930f9",
   "metadata": {},
   "outputs": [
    {
     "name": "stdout",
     "output_type": "stream",
     "text": [
      "10\n"
     ]
    }
   ],
   "source": [
    "num = int(input())"
   ]
  },
  {
   "cell_type": "code",
   "execution_count": 5,
   "id": "9733e0ea",
   "metadata": {},
   "outputs": [
    {
     "name": "stdout",
     "output_type": "stream",
     "text": [
      "Even\n"
     ]
    }
   ],
   "source": [
    "if num % 2 == 0:\n",
    "    print('Even')\n",
    "else:\n",
    "    print('Odd')"
   ]
  },
  {
   "cell_type": "markdown",
   "id": "40799ec0",
   "metadata": {},
   "source": [
    "# 2. Beautiful Number\n",
    "A number k is beautiful if it is of the form 3n+1, is pretty if it is of the form 3n+2 and is sexy if it is of form 3n.\n",
    "Given a number k, print if it is beautiful, pretty or sexy."
   ]
  },
  {
   "cell_type": "code",
   "execution_count": 7,
   "id": "84bf5f0b",
   "metadata": {},
   "outputs": [],
   "source": [
    "def beauti_number(l):\n",
    "    if l%3 == 0:\n",
    "        print('Sexy')\n",
    "    elif l%3 == 1:\n",
    "        print('Beautiful')\n",
    "    else:\n",
    "        print('Pretty')\n"
   ]
  },
  {
   "cell_type": "code",
   "execution_count": 10,
   "id": "3958dc9b",
   "metadata": {},
   "outputs": [
    {
     "name": "stdout",
     "output_type": "stream",
     "text": [
      "38\n",
      "Pretty\n"
     ]
    }
   ],
   "source": [
    "k = int(input())\n",
    "beauti_number(k)"
   ]
  },
  {
   "cell_type": "code",
   "execution_count": null,
   "id": "2424e0b4",
   "metadata": {},
   "outputs": [],
   "source": []
  },
  {
   "cell_type": "markdown",
   "id": "05497c6e",
   "metadata": {},
   "source": [
    "# 3. Alarm clock Problem"
   ]
  },
  {
   "cell_type": "markdown",
   "id": "6285f0b9",
   "metadata": {},
   "source": [
    "You're trying to automate your alarm clock by writing a function for it. You're given a day of the week encoded as 1=Mon, 2=Tue, ... 6=Sat, 7=Sun, and whether you are on vacation as a boolean value (a boolean object is either True or False. Google \"booleans python\" to get a better understanding). Based on the day and whether you're on vacation, write a function that returns a time in form of a string indicating when the alarm clock should ring. \n",
    "\n",
    "When not on a vacation, on weekdays, the alarm should ring at \"7:00\" and on the weekends (Saturday and Sunday) it should ring at \"10:00\". \n",
    "\n",
    "While on a vacation, it should ring at \"10:00\" on weekdays. On vacation, it should not ring on weekends, that is, it should return \"off\"."
   ]
  },
  {
   "cell_type": "code",
   "execution_count": 15,
   "id": "ab8ebfc3",
   "metadata": {},
   "outputs": [
    {
     "name": "stdout",
     "output_type": "stream",
     "text": [
      "1\n",
      "2\n",
      "3\n",
      "4\n",
      "5\n"
     ]
    }
   ],
   "source": [
    "for i in range(1,6):\n",
    "    print(i)"
   ]
  },
  {
   "cell_type": "code",
   "execution_count": 70,
   "id": "ca3b9672",
   "metadata": {},
   "outputs": [],
   "source": [
    "def alarm_time(day, vacation):\n",
    "    week_days = [1,2,3,4,5]\n",
    "    print(bool(vacation))\n",
    "    if (day in week_days) and vacation :\n",
    "        print('here 1')\n",
    "        return \"10:00\"\n",
    "    elif (day in week_days) and not vacation :\n",
    "        return \"7:00\"\n",
    "    elif day in [6,7] and vacation:\n",
    "        return \"off\"\n",
    "    else :\n",
    "        print('else')\n",
    "        return \"10:00\""
   ]
  },
  {
   "cell_type": "code",
   "execution_count": 76,
   "id": "1189a5e0",
   "metadata": {},
   "outputs": [
    {
     "name": "stdout",
     "output_type": "stream",
     "text": [
      "6, True\n",
      "True\n"
     ]
    },
    {
     "data": {
      "text/plain": [
       "'off'"
      ]
     },
     "execution_count": 76,
     "metadata": {},
     "output_type": "execute_result"
    }
   ],
   "source": [
    "import ast\n",
    "input_str = input()\n",
    "input_list = ast.literal_eval(input_str)\n",
    "day_of_the_week = input_list[0] #first element is an integer denoting the day of the week\n",
    "is_on_vacation = input_list[1]\n",
    "\n",
    "alarm_time(day_of_the_week, is_on_vacation)"
   ]
  },
  {
   "cell_type": "markdown",
   "id": "2e4303d0",
   "metadata": {},
   "source": [
    "# 4. Factorial Problem\n",
    "Factorial is a mathematical function denoted by '!'. It is defined as\n",
    "\n",
    "n factorial = n!= 1*2*3...*(n-1)*n\n",
    "\n",
    "In this question, you have to make a function that will take an integer as input, and return the factorial of that integer if that integer is greater than or equal to zero and return -1 if the number is less than zero or negative.\n",
    "\n",
    "Note: the function doesn't return print the factorial but returns it."
   ]
  },
  {
   "cell_type": "code",
   "execution_count": 84,
   "id": "47e42c59",
   "metadata": {},
   "outputs": [
    {
     "data": {
      "text/plain": [
       "6"
      ]
     },
     "execution_count": 84,
     "metadata": {},
     "output_type": "execute_result"
    }
   ],
   "source": [
    "def factorial(n):\n",
    "    if n < 0:\n",
    "        return -1   \n",
    "    elif n > 0:\n",
    "        return n * factorial(n-1)\n",
    "    else:\n",
    "        return 1\n",
    "\n",
    "        \n",
    "factorial(-9)\n"
   ]
  },
  {
   "cell_type": "code",
   "execution_count": 85,
   "id": "a2d6e8da",
   "metadata": {},
   "outputs": [
    {
     "data": {
      "text/plain": [
       "6"
      ]
     },
     "execution_count": 85,
     "metadata": {},
     "output_type": "execute_result"
    }
   ],
   "source": [
    "factorial(3)"
   ]
  },
  {
   "cell_type": "code",
   "execution_count": 86,
   "id": "2f33c1d3",
   "metadata": {},
   "outputs": [
    {
     "data": {
      "text/plain": [
       "1"
      ]
     },
     "execution_count": 86,
     "metadata": {},
     "output_type": "execute_result"
    }
   ],
   "source": [
    "factorial(0)"
   ]
  },
  {
   "cell_type": "markdown",
   "id": "cf55c42b",
   "metadata": {},
   "source": [
    "# 5. Reverse The Digits\n",
    "Description -> You will be given a number. You have to reverse the digits of the number and print it."
   ]
  },
  {
   "cell_type": "code",
   "execution_count": 109,
   "id": "ac5d27f1",
   "metadata": {},
   "outputs": [],
   "source": [
    "n = 5009"
   ]
  },
  {
   "cell_type": "code",
   "execution_count": 110,
   "id": "0b5703aa",
   "metadata": {},
   "outputs": [
    {
     "name": "stdout",
     "output_type": "stream",
     "text": [
      "9005\n"
     ]
    }
   ],
   "source": [
    "r = 0\n",
    "while n > 0 :\n",
    "    r = r*10 + n%10\n",
    "    n = n//10\n",
    "print(r)\n",
    "    "
   ]
  },
  {
   "cell_type": "markdown",
   "id": "9f5976b5",
   "metadata": {},
   "source": [
    "# 6.How Many Chocolates?\n",
    "This question is actually a puzzle that some of you must have solved as a kid. Let's say you have m Rupees and one chocolate costs rupees c. The shopkeeper will give you a bar of chocolate for free if you give him 3 wrappers. Can you determine how many chocolates can you get with the m Rupees you have?"
   ]
  },
  {
   "cell_type": "code",
   "execution_count": 115,
   "id": "d53ae822",
   "metadata": {},
   "outputs": [
    {
     "name": "stdout",
     "output_type": "stream",
     "text": [
      "4\n"
     ]
    }
   ],
   "source": [
    "total = 3\n",
    "choc_price = 1\n",
    "num_wrapper = 3\n",
    "\n",
    "num_chocs = total // choc_price #7\n",
    "final_chocs = num_chocs\n",
    "while num_chocs >= num_wrapper: #7>3\n",
    "    final_chocs += num_chocs // num_wrapper #7+2\n",
    "    num_chocs = (num_chocs // num_wrapper) + (num_of_chocs % num_wrapper) #7%3\n",
    "    \n",
    "    \n",
    "print(final_chocs)"
   ]
  },
  {
   "cell_type": "markdown",
   "id": "f467f7ee",
   "metadata": {},
   "source": [
    "# 7. Print The Pattern\n",
    "## Description\n",
    "Printing different patterns is a very good exercise to reinforce iteration through loops and strong logic building. Here you will be given a positive integer and you will generate pattern based on that integer.\n",
    "\n",
    "----------------------------------------------------------------------\n",
    "Input:\n",
    "A positive integer n\n",
    "1 <= n <=20\n",
    "\n",
    "Output:\n",
    "A pattern as described by the Sample input and outputs below.\n",
    "\n",
    "----------------------------------------------------------------------\n",
    "Sample input:\n",
    "5\n"
   ]
  },
  {
   "cell_type": "code",
   "execution_count": 124,
   "id": "05ca346e",
   "metadata": {},
   "outputs": [
    {
     "data": {
      "text/plain": [
       "'\\n\\nSample output:\\n\\n\\n    *\\n   *_*\\n  *_*_*\\n *_*_*_*\\n*_*_*_*_*\\n\\n'"
      ]
     },
     "execution_count": 124,
     "metadata": {},
     "output_type": "execute_result"
    }
   ],
   "source": [
    "\"\"\"\n",
    "\n",
    "Sample output:\n",
    "\n",
    "\n",
    "    *\n",
    "   *_*\n",
    "  *_*_*\n",
    " *_*_*_*\n",
    "*_*_*_*_*\n",
    "\n",
    "\"\"\""
   ]
  },
  {
   "cell_type": "code",
   "execution_count": 147,
   "id": "7a00daf8",
   "metadata": {},
   "outputs": [
    {
     "name": "stdout",
     "output_type": "stream",
     "text": [
      "                   *\n",
      "                  *_*\n",
      "                 *_*_*\n",
      "                *_*_*_*\n",
      "               *_*_*_*_*\n",
      "              *_*_*_*_*_*\n",
      "             *_*_*_*_*_*_*\n",
      "            *_*_*_*_*_*_*_*\n",
      "           *_*_*_*_*_*_*_*_*\n",
      "          *_*_*_*_*_*_*_*_*_*\n",
      "         *_*_*_*_*_*_*_*_*_*_*\n",
      "        *_*_*_*_*_*_*_*_*_*_*_*\n",
      "       *_*_*_*_*_*_*_*_*_*_*_*_*\n",
      "      *_*_*_*_*_*_*_*_*_*_*_*_*_*\n",
      "     *_*_*_*_*_*_*_*_*_*_*_*_*_*_*\n",
      "    *_*_*_*_*_*_*_*_*_*_*_*_*_*_*_*\n",
      "   *_*_*_*_*_*_*_*_*_*_*_*_*_*_*_*_*\n",
      "  *_*_*_*_*_*_*_*_*_*_*_*_*_*_*_*_*_*\n",
      " *_*_*_*_*_*_*_*_*_*_*_*_*_*_*_*_*_*_*\n",
      "*_*_*_*_*_*_*_*_*_*_*_*_*_*_*_*_*_*_*_*\n",
      "                    |                    \n",
      "                    |                    \n",
      "                    |                    \n",
      "                    |                    \n",
      "                    |                    \n",
      "                    |                    \n",
      "                    |                    \n",
      "                    |                    \n",
      "                    |                    \n",
      "                    |                    \n"
     ]
    }
   ],
   "source": [
    "num = 20\n",
    "for i in range(1, num+1):\n",
    "    for j in range(num-i):\n",
    "        print(\" \",end=\"\")\n",
    "    for k in range(i-1):\n",
    "        print(\"*_\",end=\"\")\n",
    "    print(\"*\")\n",
    "    \n",
    "newnum = 2*num \n",
    "for i in range(num//2):\n",
    "    for j in range(newnum//2):\n",
    "        print(\" \",end=\"\")\n",
    "    print('|',end=\"\")\n",
    "    for j in range(newnum//2):\n",
    "        print(\" \",end=\"\")\n",
    "    print()\n",
    "\n",
    "\n"
   ]
  },
  {
   "cell_type": "markdown",
   "id": "d9289c42",
   "metadata": {},
   "source": [
    "# 8. Smallest Element\n",
    "Description\n",
    "You have to find and print the smallest element of the list given as input. \n",
    "\n",
    "----------------------------------------------------------------------\n",
    "Input:\n",
    "A non-empty list of integers.\n",
    "\n",
    "Output:\n",
    "The smallest integer of the input list.\n",
    "\n",
    "----------------------------------------------------------------------\n",
    "Sample input:\n",
    "[2, -3, 0, 7, 21]\n",
    "\n",
    "Sample output:\n",
    "-3"
   ]
  },
  {
   "cell_type": "code",
   "execution_count": 1,
   "id": "90e38933",
   "metadata": {},
   "outputs": [
    {
     "name": "stdout",
     "output_type": "stream",
     "text": [
      "-3\n"
     ]
    }
   ],
   "source": [
    "list1 = [2, -3, 0, 7, 21]\n",
    "print(min(list1))"
   ]
  },
  {
   "cell_type": "markdown",
   "id": "98b72622",
   "metadata": {},
   "source": [
    "Finding maximum or minimum element was easy, can you try and think of finding the second maximum or 2nd minimum element from a given list of the integers?"
   ]
  },
  {
   "cell_type": "code",
   "execution_count": 2,
   "id": "887b79a8",
   "metadata": {},
   "outputs": [],
   "source": [
    "list1 = list1.sort()"
   ]
  },
  {
   "cell_type": "code",
   "execution_count": 3,
   "id": "17783598",
   "metadata": {},
   "outputs": [
    {
     "name": "stdout",
     "output_type": "stream",
     "text": [
      "0\n"
     ]
    }
   ],
   "source": [
    "#Second minimum\n",
    "print(list1[1])"
   ]
  },
  {
   "cell_type": "code",
   "execution_count": 5,
   "id": "55a20aa7",
   "metadata": {},
   "outputs": [
    {
     "name": "stdout",
     "output_type": "stream",
     "text": [
      "7\n"
     ]
    }
   ],
   "source": [
    "#second Maximum\n",
    "\n",
    "print(list1[-2])"
   ]
  },
  {
   "cell_type": "markdown",
   "id": "b547b780",
   "metadata": {},
   "source": [
    "# 9. Above Average\n",
    "Description\n",
    "Finding the average of the data and comparing it with other values is often encountered while analysing the data. Here you will do the same thing. The data will be provided to you in a list. You will also be given a number check.  You will return whether the number check is above average or no.\n",
    "\n",
    "----------------------------------------------------------------------\n",
    "Input:\n",
    "A list with two elements:\n",
    "The first element will be the list of data of integers and\n",
    "The second element will be an integer check.\n",
    "\n",
    "Output:\n",
    "True if check is above average and False otherwise\n",
    "\n",
    "----------------------------------------------------------------------\n",
    "Sample input:\n",
    "[ [2,4,6,8,10],  4]\n",
    "\n",
    "Sample output:\n",
    "False\n",
    "\n",
    "----------------------------------------------------------------------\n",
    "Sample input:\n",
    "[ [2,4,6,8,-10],  4]\n",
    "\n",
    "Sample output:\n",
    "True\n"
   ]
  },
  {
   "cell_type": "code",
   "execution_count": 12,
   "id": "a44084b2",
   "metadata": {},
   "outputs": [
    {
     "name": "stdout",
     "output_type": "stream",
     "text": [
      "[[2,4,6,8,-10], 4]\n"
     ]
    },
    {
     "data": {
      "text/plain": [
       "[[2, 4, 6, 8, -10], 4]"
      ]
     },
     "execution_count": 12,
     "metadata": {},
     "output_type": "execute_result"
    }
   ],
   "source": [
    "import ast\n",
    "input_list = ast.literal_eval(input())\n",
    "\n",
    "input_list"
   ]
  },
  {
   "cell_type": "code",
   "execution_count": 13,
   "id": "4bf9675d",
   "metadata": {},
   "outputs": [
    {
     "name": "stdout",
     "output_type": "stream",
     "text": [
      "True\n"
     ]
    }
   ],
   "source": [
    "list2 = input_list[0]\n",
    "\n",
    "sum = 0\n",
    "for i in list2:\n",
    "    sum += i\n",
    "avg = sum/len(list2)\n",
    "\n",
    "if avg < input_list[1]:\n",
    "    print(True)\n",
    "else:\n",
    "    print(False)"
   ]
  },
  {
   "cell_type": "markdown",
   "id": "d9f414ec",
   "metadata": {},
   "source": [
    "# 10. Recruit New Members\n",
    "Description\n",
    "Suppose you are a manager as a big firm and now are looking for new members for your team. You sent out an advertisement and have received a few applications. You have a habit of scoring people on a scale of 100. You have given scores to all the members of your team and the new applications. The process of selection is going to be very straightforward if the applicant improves the average of the team then you hire the applicant to join the team or else reject the application. Remember the order of processing applications is going to be important here.\n",
    "\n",
    "\n",
    "\n",
    "You may see this as an extension of the previous problem, which it is. You may use the code written in the previous question as a function to improve the code quality.\n",
    "\n",
    "\n",
    "\n",
    "----------------------------------------------------------------------\n",
    "\n",
    "Input:\n",
    "\n",
    "Two lists on two separate lines.\n",
    "\n",
    "The first line will have the list of scores of current team members\n",
    "\n",
    "The second line will have the list of scores of the applicants.\n",
    "\n",
    "\n",
    "\n",
    "Output:\n",
    "\n",
    "The list consisting of scores of the final team after hiring from the pool of applicants.\n",
    "\n",
    "\n",
    "\n",
    "----------------------------------------------------------------------\n",
    "\n",
    "Sample input:\n",
    "\n",
    "[23,45,34,76]\n",
    "\n",
    "[70,34,94]\n",
    "\n",
    "Sample output:\n",
    "\n",
    "[23, 45, 34, 76, 70, 94]\n",
    "\n",
    "\n",
    "Explanation:\n",
    "\n",
    "The first applicant has score 70, and the team average is 44.5 hence the applicant is hired making the team average 49.6\n",
    "\n",
    "The second applicant has score 34, and the team average is 49.6 hence the applicant is rejected keeping the team average same 49.6\n",
    "\n",
    "The third applicant has score 94, and the team average is 49.6 hence the applicant is hired making the team average 57\n",
    "\n",
    "\n",
    "\n",
    "----------------------------------------------------------------------\n",
    "\n",
    "Sample input:\n",
    "\n",
    "[10,20,30,40,50]\n",
    "\n",
    "[30,60,80,40]\n",
    "\n",
    "\n",
    "\n",
    "Sample output:\n",
    "\n",
    "[10, 20, 30, 40, 50, 60, 80]"
   ]
  },
  {
   "cell_type": "code",
   "execution_count": 18,
   "id": "c106c847",
   "metadata": {},
   "outputs": [],
   "source": [
    "def average(list2):\n",
    "    sum = 0\n",
    "    for i in list2:\n",
    "        sum += i\n",
    "    avg = sum/len(list2)\n",
    "    return avg\n",
    "    "
   ]
  },
  {
   "cell_type": "code",
   "execution_count": 20,
   "id": "60bf482b",
   "metadata": {},
   "outputs": [
    {
     "name": "stdout",
     "output_type": "stream",
     "text": [
      "[23,45,34,76]\n",
      "[23, 45, 34, 76]\n",
      "[70,34,94]\n",
      "[70, 34, 94]\n"
     ]
    }
   ],
   "source": [
    "import ast\n",
    "input_list = ast.literal_eval(input())\n",
    "print(input_list)\n",
    "\n",
    "\n",
    "new_list = ast.literal_eval(input())\n",
    "print(new_list)"
   ]
  },
  {
   "cell_type": "code",
   "execution_count": 21,
   "id": "c16389c8",
   "metadata": {},
   "outputs": [
    {
     "name": "stdout",
     "output_type": "stream",
     "text": [
      "[23, 45, 34, 76, 70, 94]\n"
     ]
    }
   ],
   "source": [
    "result_list = input_list\n",
    "for i in new_list:\n",
    "    if i > average(result_list):\n",
    "        result_list.append(i)\n",
    "print(result_list)"
   ]
  },
  {
   "cell_type": "code",
   "execution_count": null,
   "id": "2f09e215",
   "metadata": {},
   "outputs": [],
   "source": []
  },
  {
   "cell_type": "code",
   "execution_count": null,
   "id": "a1cabbf0",
   "metadata": {},
   "outputs": [],
   "source": []
  },
  {
   "cell_type": "markdown",
   "id": "c2cbe099",
   "metadata": {},
   "source": [
    "# 11. Calendar\n",
    "Description\n",
    "You are planning to go to your friend's wedding and you have long events all month, lasting at least a few days. You have the start and end dates of events and your task is to find out events overlapping with the wedding date.\n",
    "\n",
    "The code for taking input has already been written for you, please don't modify that, but do read and try to understand the way input has been taken. You will be asked to take input on your own for most of the problems here onwards. Taking data in a suitable format is an important skill for a Data Scientist.\n",
    "\n",
    "----------------------------------------------------------------------\n",
    "Input:\n",
    "The input will contain a list of lists where each sub-list has only two elements representing the start and end date of an event, the start date will be less than or equal to the end date. The next line of input will have a wedding date. \n",
    "\n",
    "Output:\n",
    "The output should have the number of events overlapping with the wedding date.\n",
    "\n",
    "----------------------------------------------------------------------\n",
    "Sample input:\n",
    "[ [29,31], [23,26], [24,25] ]\n",
    "24\n",
    "\n",
    "Sample output:\n",
    "2\n",
    "\n",
    "Explanation:\n",
    "There are three events in the month.\n",
    "Event 1= from date 29 to 31\n",
    "Event 2= from date 23 to 26\n",
    "Event 3= from date 24 to 25\n",
    "Wedding is on 24. This means it will clash with Event 3 and Event 2, that is two events. The output is therefore 2.\n",
    "\n",
    "----------------------------------------------------------------------\n",
    "Sample input:\n",
    "[ [1, 4], [7, 10], [8, 8], [14, 23] ]\n",
    "26\n",
    "\n",
    "Sample output:\n",
    "0"
   ]
  },
  {
   "cell_type": "code",
   "execution_count": null,
   "id": "a63e2872",
   "metadata": {},
   "outputs": [],
   "source": []
  }
 ],
 "metadata": {
  "kernelspec": {
   "display_name": "Python 3",
   "language": "python",
   "name": "python3"
  },
  "language_info": {
   "codemirror_mode": {
    "name": "ipython",
    "version": 3
   },
   "file_extension": ".py",
   "mimetype": "text/x-python",
   "name": "python",
   "nbconvert_exporter": "python",
   "pygments_lexer": "ipython3",
   "version": "3.8.8"
  }
 },
 "nbformat": 4,
 "nbformat_minor": 5
}
