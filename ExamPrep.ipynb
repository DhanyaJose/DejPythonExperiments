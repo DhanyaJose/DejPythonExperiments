{
 "cells": [
  {
   "cell_type": "markdown",
   "id": "de528ecc",
   "metadata": {},
   "source": [
    "# 1. Even or Odd\n",
    "Print 'Even' or 'Odd' based on whether the number is even or odd"
   ]
  },
  {
   "cell_type": "code",
   "execution_count": 4,
   "id": "ca2930f9",
   "metadata": {},
   "outputs": [
    {
     "name": "stdout",
     "output_type": "stream",
     "text": [
      "10\n"
     ]
    }
   ],
   "source": [
    "num = int(input())"
   ]
  },
  {
   "cell_type": "code",
   "execution_count": 5,
   "id": "9733e0ea",
   "metadata": {},
   "outputs": [
    {
     "name": "stdout",
     "output_type": "stream",
     "text": [
      "Even\n"
     ]
    }
   ],
   "source": [
    "if num % 2 == 0:\n",
    "    print('Even')\n",
    "else:\n",
    "    print('Odd')"
   ]
  },
  {
   "cell_type": "markdown",
   "id": "40799ec0",
   "metadata": {},
   "source": [
    "# 2. Beautiful Number\n",
    "A number k is beautiful if it is of the form 3n+1, is pretty if it is of the form 3n+2 and is sexy if it is of form 3n.\n",
    "Given a number k, print if it is beautiful, pretty or sexy."
   ]
  },
  {
   "cell_type": "code",
   "execution_count": 7,
   "id": "84bf5f0b",
   "metadata": {},
   "outputs": [],
   "source": [
    "def beauti_number(l):\n",
    "    if l%3 == 0:\n",
    "        print('Sexy')\n",
    "    elif l%3 == 1:\n",
    "        print('Beautiful')\n",
    "    else:\n",
    "        print('Pretty')\n"
   ]
  },
  {
   "cell_type": "code",
   "execution_count": 10,
   "id": "3958dc9b",
   "metadata": {},
   "outputs": [
    {
     "name": "stdout",
     "output_type": "stream",
     "text": [
      "38\n",
      "Pretty\n"
     ]
    }
   ],
   "source": [
    "k = int(input())\n",
    "beauti_number(k)"
   ]
  },
  {
   "cell_type": "code",
   "execution_count": null,
   "id": "2424e0b4",
   "metadata": {},
   "outputs": [],
   "source": []
  },
  {
   "cell_type": "markdown",
   "id": "05497c6e",
   "metadata": {},
   "source": [
    "# 3. Alarm clock Problem"
   ]
  },
  {
   "cell_type": "markdown",
   "id": "6285f0b9",
   "metadata": {},
   "source": [
    "You're trying to automate your alarm clock by writing a function for it. You're given a day of the week encoded as 1=Mon, 2=Tue, ... 6=Sat, 7=Sun, and whether you are on vacation as a boolean value (a boolean object is either True or False. Google \"booleans python\" to get a better understanding). Based on the day and whether you're on vacation, write a function that returns a time in form of a string indicating when the alarm clock should ring. \n",
    "\n",
    "When not on a vacation, on weekdays, the alarm should ring at \"7:00\" and on the weekends (Saturday and Sunday) it should ring at \"10:00\". \n",
    "\n",
    "While on a vacation, it should ring at \"10:00\" on weekdays. On vacation, it should not ring on weekends, that is, it should return \"off\"."
   ]
  },
  {
   "cell_type": "code",
   "execution_count": 15,
   "id": "ab8ebfc3",
   "metadata": {},
   "outputs": [
    {
     "name": "stdout",
     "output_type": "stream",
     "text": [
      "1\n",
      "2\n",
      "3\n",
      "4\n",
      "5\n"
     ]
    }
   ],
   "source": [
    "for i in range(1,6):\n",
    "    print(i)"
   ]
  },
  {
   "cell_type": "code",
   "execution_count": 70,
   "id": "ca3b9672",
   "metadata": {},
   "outputs": [],
   "source": [
    "def alarm_time(day, vacation):\n",
    "    week_days = [1,2,3,4,5]\n",
    "    print(bool(vacation))\n",
    "    if (day in week_days) and vacation :\n",
    "        print('here 1')\n",
    "        return \"10:00\"\n",
    "    elif (day in week_days) and not vacation :\n",
    "        return \"7:00\"\n",
    "    elif day in [6,7] and vacation:\n",
    "        return \"off\"\n",
    "    else :\n",
    "        print('else')\n",
    "        return \"10:00\""
   ]
  },
  {
   "cell_type": "code",
   "execution_count": 76,
   "id": "1189a5e0",
   "metadata": {},
   "outputs": [
    {
     "name": "stdout",
     "output_type": "stream",
     "text": [
      "6, True\n",
      "True\n"
     ]
    },
    {
     "data": {
      "text/plain": [
       "'off'"
      ]
     },
     "execution_count": 76,
     "metadata": {},
     "output_type": "execute_result"
    }
   ],
   "source": [
    "import ast\n",
    "input_str = input()\n",
    "input_list = ast.literal_eval(input_str)\n",
    "day_of_the_week = input_list[0] #first element is an integer denoting the day of the week\n",
    "is_on_vacation = input_list[1]\n",
    "\n",
    "alarm_time(day_of_the_week, is_on_vacation)"
   ]
  },
  {
   "cell_type": "markdown",
   "id": "2e4303d0",
   "metadata": {},
   "source": [
    "# 4. Factorial Problem\n",
    "Factorial is a mathematical function denoted by '!'. It is defined as\n",
    "\n",
    "n factorial = n!= 1*2*3...*(n-1)*n\n",
    "\n",
    "In this question, you have to make a function that will take an integer as input, and return the factorial of that integer if that integer is greater than or equal to zero and return -1 if the number is less than zero or negative.\n",
    "\n",
    "Note: the function doesn't return print the factorial but returns it."
   ]
  },
  {
   "cell_type": "code",
   "execution_count": 84,
   "id": "47e42c59",
   "metadata": {},
   "outputs": [
    {
     "data": {
      "text/plain": [
       "6"
      ]
     },
     "execution_count": 84,
     "metadata": {},
     "output_type": "execute_result"
    }
   ],
   "source": [
    "def factorial(n):\n",
    "    if n < 0:\n",
    "        return -1   \n",
    "    elif n > 0:\n",
    "        return n * factorial(n-1)\n",
    "    else:\n",
    "        return 1\n",
    "\n",
    "        \n",
    "factorial(-9)\n"
   ]
  },
  {
   "cell_type": "code",
   "execution_count": 85,
   "id": "a2d6e8da",
   "metadata": {},
   "outputs": [
    {
     "data": {
      "text/plain": [
       "6"
      ]
     },
     "execution_count": 85,
     "metadata": {},
     "output_type": "execute_result"
    }
   ],
   "source": [
    "factorial(3)"
   ]
  },
  {
   "cell_type": "code",
   "execution_count": 86,
   "id": "2f33c1d3",
   "metadata": {},
   "outputs": [
    {
     "data": {
      "text/plain": [
       "1"
      ]
     },
     "execution_count": 86,
     "metadata": {},
     "output_type": "execute_result"
    }
   ],
   "source": [
    "factorial(0)"
   ]
  },
  {
   "cell_type": "markdown",
   "id": "cf55c42b",
   "metadata": {},
   "source": [
    "# 5. Reverse The Digits\n",
    "Description -> You will be given a number. You have to reverse the digits of the number and print it."
   ]
  },
  {
   "cell_type": "code",
   "execution_count": 109,
   "id": "ac5d27f1",
   "metadata": {},
   "outputs": [],
   "source": [
    "n = 5009"
   ]
  },
  {
   "cell_type": "code",
   "execution_count": 110,
   "id": "0b5703aa",
   "metadata": {},
   "outputs": [
    {
     "name": "stdout",
     "output_type": "stream",
     "text": [
      "9005\n"
     ]
    }
   ],
   "source": [
    "r = 0\n",
    "while n > 0 :\n",
    "    r = r*10 + n%10\n",
    "    n = n//10\n",
    "print(r)\n",
    "    "
   ]
  },
  {
   "cell_type": "markdown",
   "id": "9f5976b5",
   "metadata": {},
   "source": [
    "# 6.How Many Chocolates?\n",
    "This question is actually a puzzle that some of you must have solved as a kid. Let's say you have m Rupees and one chocolate costs rupees c. The shopkeeper will give you a bar of chocolate for free if you give him 3 wrappers. Can you determine how many chocolates can you get with the m Rupees you have?"
   ]
  },
  {
   "cell_type": "code",
   "execution_count": 115,
   "id": "d53ae822",
   "metadata": {},
   "outputs": [
    {
     "name": "stdout",
     "output_type": "stream",
     "text": [
      "4\n"
     ]
    }
   ],
   "source": [
    "total = 3\n",
    "choc_price = 1\n",
    "num_wrapper = 3\n",
    "\n",
    "num_chocs = total // choc_price #7\n",
    "final_chocs = num_chocs\n",
    "while num_chocs >= num_wrapper: #7>3\n",
    "    final_chocs += num_chocs // num_wrapper #7+2\n",
    "    num_chocs = (num_chocs // num_wrapper) + (num_of_chocs % num_wrapper) #7%3\n",
    "    \n",
    "    \n",
    "print(final_chocs)"
   ]
  },
  {
   "cell_type": "markdown",
   "id": "f467f7ee",
   "metadata": {},
   "source": [
    "# 7. Print The Pattern\n",
    "## Description\n",
    "Printing different patterns is a very good exercise to reinforce iteration through loops and strong logic building. Here you will be given a positive integer and you will generate pattern based on that integer.\n",
    "\n",
    "----------------------------------------------------------------------\n",
    "Input:\n",
    "A positive integer n\n",
    "1 <= n <=20\n",
    "\n",
    "Output:\n",
    "A pattern as described by the Sample input and outputs below.\n",
    "\n",
    "----------------------------------------------------------------------\n",
    "Sample input:\n",
    "5\n"
   ]
  },
  {
   "cell_type": "code",
   "execution_count": 124,
   "id": "05ca346e",
   "metadata": {},
   "outputs": [
    {
     "data": {
      "text/plain": [
       "'\\n\\nSample output:\\n\\n\\n    *\\n   *_*\\n  *_*_*\\n *_*_*_*\\n*_*_*_*_*\\n\\n'"
      ]
     },
     "execution_count": 124,
     "metadata": {},
     "output_type": "execute_result"
    }
   ],
   "source": [
    "\"\"\"\n",
    "\n",
    "Sample output:\n",
    "\n",
    "\n",
    "    *\n",
    "   *_*\n",
    "  *_*_*\n",
    " *_*_*_*\n",
    "*_*_*_*_*\n",
    "\n",
    "\"\"\""
   ]
  },
  {
   "cell_type": "code",
   "execution_count": 147,
   "id": "7a00daf8",
   "metadata": {},
   "outputs": [
    {
     "name": "stdout",
     "output_type": "stream",
     "text": [
      "                   *\n",
      "                  *_*\n",
      "                 *_*_*\n",
      "                *_*_*_*\n",
      "               *_*_*_*_*\n",
      "              *_*_*_*_*_*\n",
      "             *_*_*_*_*_*_*\n",
      "            *_*_*_*_*_*_*_*\n",
      "           *_*_*_*_*_*_*_*_*\n",
      "          *_*_*_*_*_*_*_*_*_*\n",
      "         *_*_*_*_*_*_*_*_*_*_*\n",
      "        *_*_*_*_*_*_*_*_*_*_*_*\n",
      "       *_*_*_*_*_*_*_*_*_*_*_*_*\n",
      "      *_*_*_*_*_*_*_*_*_*_*_*_*_*\n",
      "     *_*_*_*_*_*_*_*_*_*_*_*_*_*_*\n",
      "    *_*_*_*_*_*_*_*_*_*_*_*_*_*_*_*\n",
      "   *_*_*_*_*_*_*_*_*_*_*_*_*_*_*_*_*\n",
      "  *_*_*_*_*_*_*_*_*_*_*_*_*_*_*_*_*_*\n",
      " *_*_*_*_*_*_*_*_*_*_*_*_*_*_*_*_*_*_*\n",
      "*_*_*_*_*_*_*_*_*_*_*_*_*_*_*_*_*_*_*_*\n",
      "                    |                    \n",
      "                    |                    \n",
      "                    |                    \n",
      "                    |                    \n",
      "                    |                    \n",
      "                    |                    \n",
      "                    |                    \n",
      "                    |                    \n",
      "                    |                    \n",
      "                    |                    \n"
     ]
    }
   ],
   "source": [
    "num = 20\n",
    "for i in range(1, num+1):\n",
    "    for j in range(num-i):\n",
    "        print(\" \",end=\"\")\n",
    "    for k in range(i-1):\n",
    "        print(\"*_\",end=\"\")\n",
    "    print(\"*\")\n",
    "    \n",
    "newnum = 2*num \n",
    "for i in range(num//2):\n",
    "    for j in range(newnum//2):\n",
    "        print(\" \",end=\"\")\n",
    "    print('|',end=\"\")\n",
    "    for j in range(newnum//2):\n",
    "        print(\" \",end=\"\")\n",
    "    print()\n",
    "\n",
    "\n"
   ]
  },
  {
   "cell_type": "markdown",
   "id": "d9289c42",
   "metadata": {},
   "source": [
    "# 8. Smallest Element\n",
    "Description\n",
    "You have to find and print the smallest element of the list given as input. \n",
    "\n",
    "----------------------------------------------------------------------\n",
    "Input:\n",
    "A non-empty list of integers.\n",
    "\n",
    "Output:\n",
    "The smallest integer of the input list.\n",
    "\n",
    "----------------------------------------------------------------------\n",
    "Sample input:\n",
    "[2, -3, 0, 7, 21]\n",
    "\n",
    "Sample output:\n",
    "-3"
   ]
  },
  {
   "cell_type": "code",
   "execution_count": 1,
   "id": "90e38933",
   "metadata": {},
   "outputs": [
    {
     "name": "stdout",
     "output_type": "stream",
     "text": [
      "-3\n"
     ]
    }
   ],
   "source": [
    "list1 = [2, -3, 0, 7, 21]\n",
    "print(min(list1))"
   ]
  },
  {
   "cell_type": "markdown",
   "id": "98b72622",
   "metadata": {},
   "source": [
    "Finding maximum or minimum element was easy, can you try and think of finding the second maximum or 2nd minimum element from a given list of the integers?"
   ]
  },
  {
   "cell_type": "code",
   "execution_count": 2,
   "id": "887b79a8",
   "metadata": {},
   "outputs": [],
   "source": [
    "list1 = list1.sort()"
   ]
  },
  {
   "cell_type": "code",
   "execution_count": 3,
   "id": "17783598",
   "metadata": {},
   "outputs": [
    {
     "name": "stdout",
     "output_type": "stream",
     "text": [
      "0\n"
     ]
    }
   ],
   "source": [
    "#Second minimum\n",
    "print(list1[1])"
   ]
  },
  {
   "cell_type": "code",
   "execution_count": 5,
   "id": "55a20aa7",
   "metadata": {},
   "outputs": [
    {
     "name": "stdout",
     "output_type": "stream",
     "text": [
      "7\n"
     ]
    }
   ],
   "source": [
    "#second Maximum\n",
    "\n",
    "print(list1[-2])"
   ]
  },
  {
   "cell_type": "markdown",
   "id": "b547b780",
   "metadata": {},
   "source": [
    "# 9. Above Average\n",
    "Description\n",
    "Finding the average of the data and comparing it with other values is often encountered while analysing the data. Here you will do the same thing. The data will be provided to you in a list. You will also be given a number check.  You will return whether the number check is above average or no.\n",
    "\n",
    "----------------------------------------------------------------------\n",
    "Input:\n",
    "A list with two elements:\n",
    "The first element will be the list of data of integers and\n",
    "The second element will be an integer check.\n",
    "\n",
    "Output:\n",
    "True if check is above average and False otherwise\n",
    "\n",
    "----------------------------------------------------------------------\n",
    "Sample input:\n",
    "[ [2,4,6,8,10],  4]\n",
    "\n",
    "Sample output:\n",
    "False\n",
    "\n",
    "----------------------------------------------------------------------\n",
    "Sample input:\n",
    "[ [2,4,6,8,-10],  4]\n",
    "\n",
    "Sample output:\n",
    "True\n"
   ]
  },
  {
   "cell_type": "code",
   "execution_count": 12,
   "id": "a44084b2",
   "metadata": {},
   "outputs": [
    {
     "name": "stdout",
     "output_type": "stream",
     "text": [
      "[[2,4,6,8,-10], 4]\n"
     ]
    },
    {
     "data": {
      "text/plain": [
       "[[2, 4, 6, 8, -10], 4]"
      ]
     },
     "execution_count": 12,
     "metadata": {},
     "output_type": "execute_result"
    }
   ],
   "source": [
    "import ast\n",
    "input_list = ast.literal_eval(input())\n",
    "\n",
    "input_list"
   ]
  },
  {
   "cell_type": "code",
   "execution_count": 13,
   "id": "4bf9675d",
   "metadata": {},
   "outputs": [
    {
     "name": "stdout",
     "output_type": "stream",
     "text": [
      "True\n"
     ]
    }
   ],
   "source": [
    "list2 = input_list[0]\n",
    "\n",
    "sum = 0\n",
    "for i in list2:\n",
    "    sum += i\n",
    "avg = sum/len(list2)\n",
    "\n",
    "if avg < input_list[1]:\n",
    "    print(True)\n",
    "else:\n",
    "    print(False)"
   ]
  },
  {
   "cell_type": "markdown",
   "id": "d9f414ec",
   "metadata": {},
   "source": [
    "# 10. Recruit New Members\n",
    "Description\n",
    "Suppose you are a manager as a big firm and now are looking for new members for your team. You sent out an advertisement and have received a few applications. You have a habit of scoring people on a scale of 100. You have given scores to all the members of your team and the new applications. The process of selection is going to be very straightforward if the applicant improves the average of the team then you hire the applicant to join the team or else reject the application. Remember the order of processing applications is going to be important here.\n",
    "\n",
    "\n",
    "\n",
    "You may see this as an extension of the previous problem, which it is. You may use the code written in the previous question as a function to improve the code quality.\n",
    "\n",
    "\n",
    "\n",
    "----------------------------------------------------------------------\n",
    "\n",
    "Input:\n",
    "\n",
    "Two lists on two separate lines.\n",
    "\n",
    "The first line will have the list of scores of current team members\n",
    "\n",
    "The second line will have the list of scores of the applicants.\n",
    "\n",
    "\n",
    "\n",
    "Output:\n",
    "\n",
    "The list consisting of scores of the final team after hiring from the pool of applicants.\n",
    "\n",
    "\n",
    "\n",
    "----------------------------------------------------------------------\n",
    "\n",
    "Sample input:\n",
    "\n",
    "[23,45,34,76]\n",
    "\n",
    "[70,34,94]\n",
    "\n",
    "Sample output:\n",
    "\n",
    "[23, 45, 34, 76, 70, 94]\n",
    "\n",
    "\n",
    "Explanation:\n",
    "\n",
    "The first applicant has score 70, and the team average is 44.5 hence the applicant is hired making the team average 49.6\n",
    "\n",
    "The second applicant has score 34, and the team average is 49.6 hence the applicant is rejected keeping the team average same 49.6\n",
    "\n",
    "The third applicant has score 94, and the team average is 49.6 hence the applicant is hired making the team average 57\n",
    "\n",
    "\n",
    "\n",
    "----------------------------------------------------------------------\n",
    "\n",
    "Sample input:\n",
    "\n",
    "[10,20,30,40,50]\n",
    "\n",
    "[30,60,80,40]\n",
    "\n",
    "\n",
    "\n",
    "Sample output:\n",
    "\n",
    "[10, 20, 30, 40, 50, 60, 80]"
   ]
  },
  {
   "cell_type": "code",
   "execution_count": 18,
   "id": "c106c847",
   "metadata": {},
   "outputs": [],
   "source": [
    "def average(list2):\n",
    "    sum = 0\n",
    "    for i in list2:\n",
    "        sum += i\n",
    "    avg = sum/len(list2)\n",
    "    return avg\n",
    "    "
   ]
  },
  {
   "cell_type": "code",
   "execution_count": 20,
   "id": "60bf482b",
   "metadata": {},
   "outputs": [
    {
     "name": "stdout",
     "output_type": "stream",
     "text": [
      "[23,45,34,76]\n",
      "[23, 45, 34, 76]\n",
      "[70,34,94]\n",
      "[70, 34, 94]\n"
     ]
    }
   ],
   "source": [
    "import ast\n",
    "input_list = ast.literal_eval(input())\n",
    "print(input_list)\n",
    "\n",
    "\n",
    "new_list = ast.literal_eval(input())\n",
    "print(new_list)"
   ]
  },
  {
   "cell_type": "code",
   "execution_count": 21,
   "id": "c16389c8",
   "metadata": {},
   "outputs": [
    {
     "name": "stdout",
     "output_type": "stream",
     "text": [
      "[23, 45, 34, 76, 70, 94]\n"
     ]
    }
   ],
   "source": [
    "result_list = input_list\n",
    "for i in new_list:\n",
    "    if i > average(result_list):\n",
    "        result_list.append(i)\n",
    "print(result_list)"
   ]
  },
  {
   "cell_type": "code",
   "execution_count": null,
   "id": "2f09e215",
   "metadata": {},
   "outputs": [],
   "source": []
  },
  {
   "cell_type": "code",
   "execution_count": null,
   "id": "a1cabbf0",
   "metadata": {},
   "outputs": [],
   "source": []
  },
  {
   "cell_type": "markdown",
   "id": "c2cbe099",
   "metadata": {},
   "source": [
    "# 11. Calendar\n",
    "Description\n",
    "You are planning to go to your friend's wedding and you have long events all month, lasting at least a few days. You have the start and end dates of events and your task is to find out events overlapping with the wedding date.\n",
    "\n",
    "The code for taking input has already been written for you, please don't modify that, but do read and try to understand the way input has been taken. You will be asked to take input on your own for most of the problems here onwards. Taking data in a suitable format is an important skill for a Data Scientist.\n",
    "\n",
    "----------------------------------------------------------------------\n",
    "Input:\n",
    "The input will contain a list of lists where each sub-list has only two elements representing the start and end date of an event, the start date will be less than or equal to the end date. The next line of input will have a wedding date. \n",
    "\n",
    "Output:\n",
    "The output should have the number of events overlapping with the wedding date.\n",
    "\n",
    "----------------------------------------------------------------------\n",
    "Sample input:\n",
    "[ [29,31], [23,26], [24,25] ]\n",
    "24\n",
    "\n",
    "Sample output:\n",
    "2\n",
    "\n",
    "Explanation:\n",
    "There are three events in the month.\n",
    "Event 1= from date 29 to 31\n",
    "Event 2= from date 23 to 26\n",
    "Event 3= from date 24 to 25\n",
    "Wedding is on 24. This means it will clash with Event 3 and Event 2, that is two events. The output is therefore 2.\n",
    "\n",
    "----------------------------------------------------------------------\n",
    "Sample input:\n",
    "[ [1, 4], [7, 10], [8, 8], [14, 23] ]\n",
    "26\n",
    "\n",
    "Sample output:\n",
    "0"
   ]
  },
  {
   "cell_type": "code",
   "execution_count": 46,
   "id": "a63e2872",
   "metadata": {},
   "outputs": [
    {
     "name": "stdout",
     "output_type": "stream",
     "text": [
      "[ [29,31], [23,26], [24,25] ] \n",
      "24\n",
      "2\n"
     ]
    }
   ],
   "source": [
    "#taking input\n",
    "import ast\n",
    "input_str1 = input()\n",
    "input_list1 = ast.literal_eval(input_str1)\n",
    "events = input_list1\n",
    "\n",
    "wedding = int(input())\n",
    "counter = 0\n",
    "for i in events:\n",
    "    if i[0] <= wedding <= i[1]:\n",
    "        counter += 1\n",
    "        \n",
    "print(counter)"
   ]
  },
  {
   "cell_type": "code",
   "execution_count": null,
   "id": "1ae18c6a",
   "metadata": {},
   "outputs": [],
   "source": []
  },
  {
   "cell_type": "code",
   "execution_count": null,
   "id": "5416af7b",
   "metadata": {},
   "outputs": [],
   "source": []
  },
  {
   "cell_type": "markdown",
   "id": "fdd4fd7f",
   "metadata": {},
   "source": [
    "# 12. String Problem\n",
    "Description\n",
    "In a certain encrypted message which has information about the location(area, city), the characters are jumbled such that first character of the first word is followed by the first character of the second word, then it is followed by second character of the first word and so on\n",
    "\n",
    "\n",
    "\n",
    "In other words, let’s say the location is bandra,mumbai\n",
    "\n",
    "\n",
    "\n",
    "The encrypted message says ‘bmaunmdbraai’.\n",
    "\n",
    "\n",
    "\n",
    "Sample Input:\n",
    "\n",
    "`bmaunmdbraai`\n",
    "\n",
    "\n",
    "\n",
    "Sample Output:\n",
    "\n",
    "`bandra,mumbai`\n",
    "\n",
    "\n",
    "\n",
    "Let’s say the size or length of the two words wouldn’t match then the smaller word is appended with # and then encrypted in the above format."
   ]
  },
  {
   "cell_type": "code",
   "execution_count": 3,
   "id": "313ee8d5",
   "metadata": {},
   "outputs": [
    {
     "data": {
      "text/plain": [
       "'bandra,mumbai'"
      ]
     },
     "execution_count": 3,
     "metadata": {},
     "output_type": "execute_result"
    }
   ],
   "source": [
    "input1 = \"bmaunmdbraai\"\n",
    "\n",
    "first_string = input1[0::2]\n",
    "\n",
    "second_string = input1[1::2]\n",
    "\n",
    "decrypted_string = first_string.strip('#')+','+second_string.strip('#')\n",
    "decrypted_string"
   ]
  },
  {
   "cell_type": "markdown",
   "id": "b6a2675f",
   "metadata": {},
   "source": [
    "# 13. List_remove_append\n",
    "Description\n",
    "Remove SPSS from input_list=['SAS', 'R', 'PYTHON', 'SPSS'] and add 'SPARK' in its place.\n",
    "\n",
    "\n",
    "\n",
    "Sample Input:\n",
    "\n",
    "['SAS', 'R', 'PYTHON', 'SPSS']\n",
    "\n",
    "\n",
    "\n",
    "Sample Output:\n",
    "\n",
    "['SAS', 'R', 'PYTHON', 'SPARK']"
   ]
  },
  {
   "cell_type": "code",
   "execution_count": 5,
   "id": "e4c77467",
   "metadata": {},
   "outputs": [
    {
     "data": {
      "text/plain": [
       "['SAS', 'R', 'PYTHON', 'SPARK']"
      ]
     },
     "execution_count": 5,
     "metadata": {},
     "output_type": "execute_result"
    }
   ],
   "source": [
    "input_list=['SAS', 'R', 'PYTHON', 'SPSS']\n",
    "index1 = input_list.index('SPSS')\n",
    "input_list[index1] = 'SPARK'\n",
    "input_list"
   ]
  },
  {
   "cell_type": "markdown",
   "id": "6c844c79",
   "metadata": {},
   "source": [
    "# 14. List to String\n",
    "Description\n",
    "Convert a list ['Pythons syntax is easy to learn', 'Pythons syntax is very clear'] to a string using ‘&’. The sample output of this string will be:\n",
    "Pythons syntax is easy to learn & Pythons syntax is very clear\n",
    "\n",
    "Note that there is a space on both sides of '&' (as usual in English sentences)."
   ]
  },
  {
   "cell_type": "code",
   "execution_count": 6,
   "id": "9ea99a3d",
   "metadata": {},
   "outputs": [],
   "source": [
    "list1 = ['Pythons syntax is easy to learn', 'Pythons syntax is very clear'] \n",
    "output = ' & '.join(list1)"
   ]
  },
  {
   "cell_type": "code",
   "execution_count": 7,
   "id": "c7286ba4",
   "metadata": {},
   "outputs": [
    {
     "data": {
      "text/plain": [
       "'Pythons syntax is easy to learn & Pythons syntax is very clear'"
      ]
     },
     "execution_count": 7,
     "metadata": {},
     "output_type": "execute_result"
    }
   ],
   "source": [
    "output"
   ]
  },
  {
   "cell_type": "markdown",
   "id": "6e6d0ab9",
   "metadata": {},
   "source": [
    "# 15. String Split\n",
    "Description <br>\n",
    "Split the string input_str = 'Kumar_Ravi_003' to the person's second name, first name and unique customer code. In this example, second_name= 'Kumar', first_name= 'Ravi', customer_code = '003'.\n",
    "\n",
    "\n",
    "\n",
    "A sample output of the input 'Kumar_Ravi_003' is:\n",
    "\n",
    "Ravi\n",
    "Kumar\n",
    "003\n",
    " \n",
    "\n",
    "Note that you need to print in the order first name, last name and customer code."
   ]
  },
  {
   "cell_type": "code",
   "execution_count": 12,
   "id": "88f0ea5f",
   "metadata": {},
   "outputs": [
    {
     "name": "stdout",
     "output_type": "stream",
     "text": [
      "Ravi Kumar 003\n"
     ]
    }
   ],
   "source": [
    "input_str = 'Kumar_Ravi_003'\n",
    "list1 = input_str.split('_')\n",
    "print(list1[1], list1[0], list1[2])"
   ]
  },
  {
   "cell_type": "markdown",
   "id": "89650aa9",
   "metadata": {},
   "source": [
    "# 16. Tuple\n",
    "Description\n",
    "Add the element ‘Python’ to a tuple input_tuple = ('Monty Python', 'British', 1969). Since tuples are immutable, one way to do this is to convert the tuple to a list, add the element, and convert it back to a tuple.\n",
    "\n",
    "\n",
    "\n",
    "Sample Input:\n",
    "\n",
    "('Monty Python', 'British', 1969)\n",
    "\n",
    "\n",
    "\n",
    "Sample Output:\n",
    "\n",
    "﻿('Monty Python', 'British', 1969, 'Python')"
   ]
  },
  {
   "cell_type": "code",
   "execution_count": 13,
   "id": "9aceccb7",
   "metadata": {},
   "outputs": [
    {
     "data": {
      "text/plain": [
       "('SAS', 'R', 'PYTHON', 'SPARK', 'Python')"
      ]
     },
     "execution_count": 13,
     "metadata": {},
     "output_type": "execute_result"
    }
   ],
   "source": [
    "input_tuple = ('Monty Python', 'British', 1969)\n",
    "output_list = list(input_list)\n",
    "output_list.append('Python')\n",
    "output_tuple = tuple(output_list)\n",
    "output_tuple"
   ]
  },
  {
   "cell_type": "markdown",
   "id": "788f2696",
   "metadata": {},
   "source": [
    "# 17. Sets Practice\n",
    "Description\n",
    "Let’s say you have two lists A and B. Identify the elements which are common in the two lists A and B and return them in a sorted manner. For example \n",
    "\n",
    "\n",
    "\n",
    "Sample Input :\n",
    "\n",
    "A = [5, 1, 3, 4, 4, 5, 6, 7]\n",
    "\n",
    "B = [3, 3, 5, 5, 1 ,7 ,2]\n",
    "\n",
    "\n",
    "\n",
    "Sample Output:\n",
    "\n",
    "[1,3,5,7]\n",
    "\n",
    "\n",
    "\n",
    "If you observe the sample output here you can see that \n",
    "\n",
    "Though value 5 is repeated twice in both lists, in the final output it is present only once.\n",
    "The values are returned in a sorted manner with values increasing."
   ]
  },
  {
   "cell_type": "code",
   "execution_count": 17,
   "id": "d76a7168",
   "metadata": {},
   "outputs": [
    {
     "data": {
      "text/plain": [
       "[1, 3, 5, 7]"
      ]
     },
     "execution_count": 17,
     "metadata": {},
     "output_type": "execute_result"
    }
   ],
   "source": [
    "A = [5, 1, 3, 4, 4, 5, 6, 7]\n",
    "\n",
    "B = [3, 3, 5, 5, 1 ,7 ,2]\n",
    "\n",
    "set_A = set(A)\n",
    "set_B = set(B)\n",
    "\n",
    "output = sorted(list(set_A.intersection(set_B)))\n",
    "output"
   ]
  },
  {
   "cell_type": "markdown",
   "id": "00f4ebf6",
   "metadata": {},
   "source": [
    "# 18. Dictionary Coding\n",
    "Description <br>\n",
    "Write code to fetch the profession of the employee with Employee id - 104 from an employee input given in the form of a dictionary where key represent employ id and values represent the name, age, and profession (in the same order).\n",
    "\n",
    "\n",
    "\n",
    "Sample input:\n",
    "\n",
    "Employee_data = { 101:['Shiva', 24, 'Content Strategist'] ,102:['Udit',25,'Content Strategist'], 103:['Sonam', 28,'Sr Manager'], 104:['Ansari',29,'Product Lead' ],105:['Huzefa',32,'Project Manager' ]}\n",
    "\n",
    "\n",
    "\n",
    "Sample output:\n",
    "\n",
    "'Product Lead'"
   ]
  },
  {
   "cell_type": "code",
   "execution_count": 20,
   "id": "77108413",
   "metadata": {},
   "outputs": [
    {
     "data": {
      "text/plain": [
       "'Product Lead'"
      ]
     },
     "execution_count": 20,
     "metadata": {},
     "output_type": "execute_result"
    }
   ],
   "source": [
    "Employee_data = { 101:['Shiva', 24, 'Content Strategist'] ,102:['Udit',25,'Content Strategist'], 103:['Sonam', 28,'Sr Manager'], 104:['Ansari',29,'Product Lead' ],105:['Huzefa',32,'Project Manager' ]}\n",
    "\n",
    "Employee_data[104][2]"
   ]
  },
  {
   "cell_type": "markdown",
   "id": "5464d64e",
   "metadata": {},
   "source": [
    "# 19.Dict_Error\n",
    "Description <br>\n",
    "From a Dictionary input_dict={'Name': 'Monty', 'Profession': 'Singer' }, get the value of a key ‘Label’ which is not a part of the dictionary, in such a way that Python doesn't hit an error. If the key does not exist in the dictionary, Python should return 'NA'.\n",
    "\n",
    "\n",
    "\n",
    "Sample Input:\n",
    "\n",
    "{'Name': 'Monty', 'Profession': 'Singer' }\n",
    "\n",
    "\n",
    "\n",
    "Sample Output:\n",
    "\n",
    "NA"
   ]
  },
  {
   "cell_type": "code",
   "execution_count": 25,
   "id": "ad408219",
   "metadata": {},
   "outputs": [
    {
     "name": "stdout",
     "output_type": "stream",
     "text": [
      "NA\n"
     ]
    }
   ],
   "source": [
    "input_dict={'Name': 'Monty', 'Profession': 'Singer' }\n",
    "if (input_dict.get('Label') == None):\n",
    "    print('NA')"
   ]
  },
  {
   "cell_type": "markdown",
   "id": "027bc71b",
   "metadata": {},
   "source": [
    "# 20.List of Values in a Dictionary.\n",
    "Description\n",
    "Create a SORTED list of all values from the dictionary input_dict = {'Jack Dorsey' : 'Twitter' , 'Tim Cook' : 'Apple','Jeff Bezos' : 'Amazon' ,'Mukesh Ambani' : 'RJIO'}\n",
    "\n",
    "\n",
    "\n",
    "Sample Input:\n",
    "\n",
    "{'Jack Dorsey' : 'Twitter' , 'Tim Cook' : 'Apple','Jeff Bezos' : 'Amazon' ,'Mukesh Ambani' : 'RJIO'}\n",
    "\n",
    "\n",
    "\n",
    "Sample Output:\n",
    "\n",
    "﻿['Amazon', 'Apple', 'RJIO', 'Twitter']"
   ]
  },
  {
   "cell_type": "code",
   "execution_count": 26,
   "id": "7d9b307f",
   "metadata": {},
   "outputs": [
    {
     "data": {
      "text/plain": [
       "['Amazon', 'Apple', 'RJIO', 'Twitter']"
      ]
     },
     "execution_count": 26,
     "metadata": {},
     "output_type": "execute_result"
    }
   ],
   "source": [
    "input_dict = {'Jack Dorsey' : 'Twitter' , 'Tim Cook' : 'Apple','Jeff Bezos' : 'Amazon' ,'Mukesh Ambani' : 'RJIO'}\n",
    "values = input_dict.values()\n",
    "sorted(values)"
   ]
  },
  {
   "cell_type": "markdown",
   "id": "a39a749a",
   "metadata": {},
   "source": [
    "# 21. If-Else\n",
    "Description\n",
    "Write a code to check if the string in input_str starts with a vowel or not. Print capital YES or NO.\n",
    "\n",
    "\n",
    "\n",
    "For example, if input_str = 'analytics' then, your output should print 'YES'.\n",
    "\n",
    "\n",
    "\n",
    "Sample Input:\n",
    "\n",
    "alpha\n",
    "\n",
    "\n",
    "\n",
    "Sample Output:\n",
    "\n",
    "YES"
   ]
  },
  {
   "cell_type": "code",
   "execution_count": 4,
   "id": "f2808d15",
   "metadata": {},
   "outputs": [
    {
     "name": "stdout",
     "output_type": "stream",
     "text": [
      "beta\n",
      "NO\n"
     ]
    }
   ],
   "source": [
    "string = input()\n",
    "\n",
    "if string[0] in 'aeiou':\n",
    "    print('YES')\n",
    "else:\n",
    "    print('NO')"
   ]
  },
  {
   "cell_type": "code",
   "execution_count": null,
   "id": "7fb75868",
   "metadata": {},
   "outputs": [],
   "source": []
  },
  {
   "cell_type": "markdown",
   "id": "a86a575a",
   "metadata": {},
   "source": [
    "# 22.List Comprehension\n",
    "Description\n",
    "You are given an integer 'n' as the input. Create a list comprehension containing the squares of the integers from 1 till n^2 (including 1 and n), and print the list. \n",
    "\n",
    "\n",
    "\n",
    "\n",
    "\n",
    "\n",
    "\n",
    "For example, if the input is 4, the output should be a list as follows:\n",
    "\n",
    "[1, 4, 9, 16]\n",
    "\n",
    "\n",
    "\n",
    "\n",
    "The input integer 'n' is stored in the variable 'n'. "
   ]
  },
  {
   "cell_type": "code",
   "execution_count": 6,
   "id": "1b9c58d9",
   "metadata": {},
   "outputs": [
    {
     "name": "stdout",
     "output_type": "stream",
     "text": [
      "4\n"
     ]
    },
    {
     "data": {
      "text/plain": [
       "[1, 4, 9, 16]"
      ]
     },
     "execution_count": 6,
     "metadata": {},
     "output_type": "execute_result"
    }
   ],
   "source": [
    "in1 = int(input())\n",
    "list1 = [i*i for i in range(1, in1+1)]\n",
    "list1"
   ]
  },
  {
   "cell_type": "markdown",
   "id": "73e24e2f",
   "metadata": {},
   "source": [
    "# 23. List Comprehensions\n",
    "Description\n",
    "Extract the words that start with a vowel from a list input_list=[wood, old, apple, big, item, euphoria] using list comprehensions.\n",
    "\n",
    "\n",
    "\n",
    "Sample Input:\n",
    "\n",
    "['wood','old','apple','big','item','euphoria']\n",
    "\n",
    "\n",
    "\n",
    "Sample Output:\n",
    "\n",
    "﻿['old', 'apple', 'item', 'euphoria']"
   ]
  },
  {
   "cell_type": "code",
   "execution_count": 16,
   "id": "683f0358",
   "metadata": {},
   "outputs": [
    {
     "data": {
      "text/plain": [
       "['old', 'apple', 'item', 'euphoria']"
      ]
     },
     "execution_count": 16,
     "metadata": {},
     "output_type": "execute_result"
    }
   ],
   "source": [
    "from functools import reduce\n",
    "\n",
    "list0 = ['wood','old','apple','big','item','euphoria']\n",
    "\n",
    "\n",
    "list1 = [word for word in list0 if word[0] in ['a', 'e', 'i', 'o', 'u', 'A', 'E', 'I', 'O', 'U']]\n",
    "list1"
   ]
  },
  {
   "cell_type": "code",
   "execution_count": null,
   "id": "1f48fb86",
   "metadata": {},
   "outputs": [],
   "source": []
  },
  {
   "cell_type": "markdown",
   "id": "e418d5d3",
   "metadata": {},
   "source": [
    "# 24. Dictionary Comprehension\n",
    "Following is the code to create a dictionary where the keys are multiples of 3 among the first 100 natural numbers and each value is the cube of the key.\n",
    "\n",
    "> input_list = list(range(1,100)) <br>\n",
    "> output_dict = {} <br>\n",
    "\n",
    "> for val in input_list: <br>\n",
    ">    if val % 3 == 0:<br>\n",
    ">        output_dict[val] = val**3 <br>\n",
    "\n",
    "Now, what would be corresponding dictionary comprehension for the code involved in dictionary creation? "
   ]
  },
  {
   "cell_type": "code",
   "execution_count": 18,
   "id": "0e4cb2f9",
   "metadata": {},
   "outputs": [],
   "source": [
    "output_dict = {val : val**3 for val in list(range(1,100)) if val%3 == 0}"
   ]
  },
  {
   "cell_type": "code",
   "execution_count": 19,
   "id": "7af39ad5",
   "metadata": {},
   "outputs": [
    {
     "data": {
      "text/plain": [
       "{3: 27,\n",
       " 6: 216,\n",
       " 9: 729,\n",
       " 12: 1728,\n",
       " 15: 3375,\n",
       " 18: 5832,\n",
       " 21: 9261,\n",
       " 24: 13824,\n",
       " 27: 19683,\n",
       " 30: 27000,\n",
       " 33: 35937,\n",
       " 36: 46656,\n",
       " 39: 59319,\n",
       " 42: 74088,\n",
       " 45: 91125,\n",
       " 48: 110592,\n",
       " 51: 132651,\n",
       " 54: 157464,\n",
       " 57: 185193,\n",
       " 60: 216000,\n",
       " 63: 250047,\n",
       " 66: 287496,\n",
       " 69: 328509,\n",
       " 72: 373248,\n",
       " 75: 421875,\n",
       " 78: 474552,\n",
       " 81: 531441,\n",
       " 84: 592704,\n",
       " 87: 658503,\n",
       " 90: 729000,\n",
       " 93: 804357,\n",
       " 96: 884736,\n",
       " 99: 970299}"
      ]
     },
     "execution_count": 19,
     "metadata": {},
     "output_type": "execute_result"
    }
   ],
   "source": [
    "output_dict"
   ]
  },
  {
   "cell_type": "markdown",
   "id": "344681e5",
   "metadata": {},
   "source": [
    "# 25. Function\n",
    "Description\n",
    "Create a function squared(), which takes x and y as arguments and returns the x**y value. For e.g., if x = 2 and y = 3 , then the output is 8.\n",
    "\n",
    "\n",
    "\n",
    "Sample Input:\n",
    "\n",
    "['6','7']\n",
    "\n",
    "\n",
    "\n",
    "Sample Output:\n",
    "\n",
    "﻿279936"
   ]
  },
  {
   "cell_type": "code",
   "execution_count": 20,
   "id": "1853cf93",
   "metadata": {},
   "outputs": [],
   "source": [
    "def squared(x,y):\n",
    "    return x**y"
   ]
  },
  {
   "cell_type": "code",
   "execution_count": 21,
   "id": "2c534166",
   "metadata": {},
   "outputs": [
    {
     "data": {
      "text/plain": [
       "279936"
      ]
     },
     "execution_count": 21,
     "metadata": {},
     "output_type": "execute_result"
    }
   ],
   "source": [
    "squared(6,7)"
   ]
  },
  {
   "cell_type": "markdown",
   "id": "7d0bb721",
   "metadata": {},
   "source": [
    "# 26. Map Function\n",
    "Description\n",
    "Using the function Map, count the number of words that start with ‘S’ in input_list.\n",
    "\n",
    "\n",
    "\n",
    "Sample Input:\n",
    "\n",
    "['Santa Cruz','Santa fe','Mumbai','Delhi']\n",
    "\n",
    "\n",
    "\n",
    "Sample Output:\n",
    "\n",
    "2"
   ]
  },
  {
   "cell_type": "code",
   "execution_count": 26,
   "id": "4f795720",
   "metadata": {},
   "outputs": [
    {
     "data": {
      "text/plain": [
       "2"
      ]
     },
     "execution_count": 26,
     "metadata": {},
     "output_type": "execute_result"
    }
   ],
   "source": [
    "list1 = ['Santa Cruz','Santa fe','Mumbai','Delhi']\n",
    "\n",
    "sum(list(map(lambda x: x[0] == 'S', list1)))"
   ]
  },
  {
   "cell_type": "markdown",
   "id": "0ba275b4",
   "metadata": {},
   "source": [
    "# 27. Map Function\n",
    "Description\n",
    "Create a list ‘name’ consisting of the combination of the first name and the second name from list 1 and 2 respectively. \n",
    "\n",
    "For e.g. if the input list is:\n",
    "[ ['Ankur', 'Avik', 'Kiran', 'Nitin'], ['Narang', 'Sarkar', 'R', 'Sareen']]\n",
    "\n",
    "the output list should be the list:\n",
    "['Ankur Narang', 'Avik Sarkar', 'Kiran R', 'Nitin Sareen']"
   ]
  },
  {
   "cell_type": "code",
   "execution_count": 27,
   "id": "120cce5e",
   "metadata": {},
   "outputs": [
    {
     "data": {
      "text/plain": [
       "['Ankur Narang', 'Avik Sarkar', 'Kiran R', 'Nitin Sareen']"
      ]
     },
     "execution_count": 27,
     "metadata": {},
     "output_type": "execute_result"
    }
   ],
   "source": [
    "input_list =  [ ['Ankur', 'Avik', 'Kiran', 'Nitin'], ['Narang', 'Sarkar', 'R', 'Sareen']]\n",
    "list(map(lambda x, y: x+' '+y, input_list[0], input_list[1]))"
   ]
  },
  {
   "cell_type": "markdown",
   "id": "121baed9",
   "metadata": {},
   "source": [
    "# 28. Filter Function\n",
    "Description\n",
    "Extract a list of numbers that are multiples of 5 from a list of integers named input_list.\n",
    "\n",
    "\n",
    "\n",
    "Sample Input:\n",
    "\n",
    "[1, 2, 3, 4, 5, 6, 7, 8, 9, 10, 11, 12, 13, 14, 15, 16, 17, 18, 19, 20, 21, 22, 23, 24, 25, 26, 27, 28, 29, 30, 31, 32, 33, 34, 35, 36, 37, 38, 39, 40, 41, 42, 43, 44, 45, 46, 47, 48, 49, 50]\n",
    "\n",
    "\n",
    "\n",
    "Sample Output:\n",
    "\n",
    "[5, 10, 15, 20, 25, 30, 35, 40, 45, 50]\n",
    "\n",
    "\n",
    "\n",
    "Note: Use the filter() function."
   ]
  },
  {
   "cell_type": "code",
   "execution_count": 29,
   "id": "7ffc40cc",
   "metadata": {},
   "outputs": [
    {
     "data": {
      "text/plain": [
       "[5, 10, 15, 20, 25, 30, 35, 40, 45, 50]"
      ]
     },
     "execution_count": 29,
     "metadata": {},
     "output_type": "execute_result"
    }
   ],
   "source": [
    "list5 = [1, 2, 3, 4, 5, 6, 7, 8, 9, 10, 11, 12, 13, 14, 15, 16, 17, 18, 19, 20, 21, 22, 23, 24, 25, 26, 27, 28, 29, 30, 31, 32, 33, 34, 35, 36, 37, 38, 39, 40, 41, 42, 43, 44, 45, 46, 47, 48, 49, 50]\n",
    "\n",
    "output = list(filter(lambda x: x%5 ==0, list5))\n",
    "output"
   ]
  },
  {
   "cell_type": "markdown",
   "id": "ba4ad12e",
   "metadata": {},
   "source": [
    "# 29. Filter Function\n",
    "Description\n",
    "You are given a list of strings such as input_list = ['hdjk', 'salsap', 'sherpa'].\n",
    "\n",
    "\n",
    "\n",
    "Extract a list of names that start with an ‘s’ and end with a ‘p’ (both 's' and 'p' are lowercase) in input_list.\n",
    "\n",
    "\n",
    "\n",
    "Sample Input:\n",
    "\n",
    "['soap','sharp','shy','silent','ship','summer','sheep']\n",
    "\n",
    "\n",
    "\n",
    "Sample Output:\n",
    "\n",
    "['soap', 'sharp', 'ship', 'sheep']\n",
    "\n",
    "\n",
    "\n",
    "Note: Use the filter() function."
   ]
  },
  {
   "cell_type": "code",
   "execution_count": 31,
   "id": "850f3b5a",
   "metadata": {},
   "outputs": [
    {
     "data": {
      "text/plain": [
       "['soap', 'sharp', 'ship', 'sheep']"
      ]
     },
     "execution_count": 31,
     "metadata": {},
     "output_type": "execute_result"
    }
   ],
   "source": [
    "input_list = ['soap','sharp','shy','silent','ship','summer','sheep']\n",
    "\n",
    "output_list = list(filter(lambda x: (x[0] == 's' and x[-1] == 'p'), input_list))\n",
    "output_list\n",
    "                "
   ]
  },
  {
   "cell_type": "markdown",
   "id": "7683b150",
   "metadata": {},
   "source": [
    "# 30. Reduce Function\n",
    "Description\n",
    "Using the Reduce function, concatenate a list of words in input_list, and print the output as a string.\n",
    "\n",
    "If input_list = ['I','Love','Python'], the output should be the string 'I Love Python'.\n",
    "\n",
    "\n",
    "\n",
    "Sample Input:\n",
    "\n",
    "['All','you','have','to','fear','is','fear','itself']\n",
    "\n",
    "\n",
    "\n",
    "Sample Output:\n",
    "\n",
    "﻿All you have to fear is fear itself"
   ]
  },
  {
   "cell_type": "code",
   "execution_count": 38,
   "id": "79b705f4",
   "metadata": {},
   "outputs": [],
   "source": [
    "from functools import reduce\n",
    "input_list = ['All','you','have','to','fear','is','fear','itself']\n",
    "string = reduce(lambda x, y: (x+' '+y), input_list)"
   ]
  },
  {
   "cell_type": "code",
   "execution_count": 39,
   "id": "2792b929",
   "metadata": {},
   "outputs": [
    {
     "data": {
      "text/plain": [
       "'All you have to fear is fear itself'"
      ]
     },
     "execution_count": 39,
     "metadata": {},
     "output_type": "execute_result"
    }
   ],
   "source": [
    "string"
   ]
  },
  {
   "cell_type": "markdown",
   "id": "e5d6357b",
   "metadata": {},
   "source": [
    "# 31. Reduce Function\n",
    "Description\n",
    "You are given a list of numbers such as input_list = [31, 63, 76, 89]. Find and print the largest number in input_list using the reduce() function.\n",
    "\n",
    "\n",
    "\n",
    "Sample Input:\n",
    "\n",
    "[65,76,87,23,12,90,99]\n",
    "\n",
    "\n",
    "\n",
    "Sample Output:\n",
    "\n",
    "﻿99"
   ]
  },
  {
   "cell_type": "code",
   "execution_count": 43,
   "id": "1578c2e5",
   "metadata": {},
   "outputs": [
    {
     "data": {
      "text/plain": [
       "1000"
      ]
     },
     "execution_count": 43,
     "metadata": {},
     "output_type": "execute_result"
    }
   ],
   "source": [
    "inp1 = [65,76,87,23,12,90,99, 7, 9, 1000]\n",
    "str1 = reduce(lambda x, y: x if x>y else y, inp1)\n",
    "str1"
   ]
  },
  {
   "cell_type": "markdown",
   "id": "fc29a5fd",
   "metadata": {},
   "source": [
    "# 32. Fenced Metrix\n",
    "Description\n",
    "You will be given two positive integers m and n. You have to make a list of lists (which can be visualised as a matrix) of size m*n, that is m sublists (rows), with each sublists having n integers (columns). The matrix should be such that it should have 1 on the border and 0 everywhere else. See sample input and output for more clarification.\n",
    "\n",
    "\n",
    "\n",
    "----------------------------------------------------------------------\n",
    "\n",
    "Input:\n",
    "\n",
    "Two integers separated by a comma\n",
    "\n",
    "\n",
    "\n",
    "Output:\n",
    "\n",
    "A list of lists of size m*n printed like matrix as shown in the sample output.\n",
    "\n",
    "\n",
    "\n",
    "----------------------------------------------------------------------\n",
    "\n",
    "Sample input:\n",
    "\n",
    "4,5\n",
    "\n",
    "\n",
    "\n",
    "Sample output:\n",
    "\n",
    "[1, 1, 1, 1, 1]\n",
    "[1, 0, 0, 0, 1]\n",
    "[1, 0, 0, 0, 1]\n",
    "[1, 1, 1, 1, 1]"
   ]
  },
  {
   "cell_type": "code",
   "execution_count": 61,
   "id": "816da5b3",
   "metadata": {},
   "outputs": [
    {
     "name": "stdout",
     "output_type": "stream",
     "text": [
      "[1, 1, 1, 1, 1]\n",
      "[1, 0, 0, 0, 1]\n",
      "[1, 0, 0, 0, 1]\n",
      "[1, 1, 1, 1, 1]\n"
     ]
    }
   ],
   "source": [
    "m = 4\n",
    "n = 5\n",
    "\n",
    "final = [0]*n\n",
    "final = [list(final) for i in range(m)]\n",
    "final\n",
    "\n",
    "for i in range(m):\n",
    "    for j in range(n):\n",
    "        if i == 0 or j == 0 or i == m-1 or j == n-1:\n",
    "            final[i][j] = 1\n",
    "for item in final:\n",
    "    print(item)"
   ]
  },
  {
   "cell_type": "code",
   "execution_count": 50,
   "id": "1f806c3f",
   "metadata": {},
   "outputs": [
    {
     "data": {
      "text/plain": [
       "[[0, 0, 0, 0, 0], [0, 0, 0, 0, 0], [0, 0, 0, 0, 0], [0, 0, 0, 0, 0]]"
      ]
     },
     "execution_count": 50,
     "metadata": {},
     "output_type": "execute_result"
    }
   ],
   "source": [
    "output"
   ]
  },
  {
   "cell_type": "markdown",
   "id": "9cd3a760",
   "metadata": {},
   "source": [
    "# 33. Palindrome String\n",
    "Description\n",
    "Write a program to check whether a string is a palindrome or not. Print 1 if the string is a palindrome and 0 otherwise.\n",
    "\n",
    "Note: Please ensure that your program should not be case-sensitive. So, if the input is, say, “HAnnah”, then, its output should be 1.\n",
    "\n",
    "----------------------------------------------------------------------\n",
    "Input:\n",
    "A string\n",
    "\n",
    "Output:\n",
    "1 if the string is a palindrome, 0 otherwise"
   ]
  },
  {
   "cell_type": "code",
   "execution_count": 68,
   "id": "ecc48cf8",
   "metadata": {},
   "outputs": [
    {
     "name": "stdout",
     "output_type": "stream",
     "text": [
      "darling\n",
      "0\n"
     ]
    }
   ],
   "source": [
    "string1 = input()\n",
    "\n",
    "string1 = string1.lower()\n",
    "if string1[-1::-1] == string1:\n",
    "    print(1)\n",
    "else:\n",
    "    print(0)\n",
    "#if string1[]"
   ]
  },
  {
   "cell_type": "code",
   "execution_count": null,
   "id": "370f7509",
   "metadata": {},
   "outputs": [],
   "source": []
  },
  {
   "cell_type": "markdown",
   "id": "148e1199",
   "metadata": {},
   "source": [
    "# 34. Reverse Words\n",
    "Description\n",
    "You will be given a sentence in the form of a string. You have to reverse the order of the words in the sentence. Remember not to reverse the individual words, but the order of words. Check the sample input-output for further clarification.\n",
    "\n",
    "----------------------------------------------------------------------\n",
    "Input:\n",
    "A string, which will consist of a few spaces.\n",
    "\n",
    "Output:\n",
    "The words in reverse order.\n",
    "\n",
    "----------------------------------------------------------------------\n",
    "Sample input:\n",
    "I love coding in python\n",
    "\n",
    "Sample output:\n",
    "python in coding love I"
   ]
  },
  {
   "cell_type": "code",
   "execution_count": 73,
   "id": "39a03179",
   "metadata": {},
   "outputs": [],
   "source": [
    "inp1 = 'I love coding in python'\n",
    "\n",
    "out = inp1.split(' ')\n",
    "out2 = out[-1: :-1]\n",
    "str1 = ' '.join(out2)\n"
   ]
  },
  {
   "cell_type": "code",
   "execution_count": 74,
   "id": "d0e2d3a5",
   "metadata": {},
   "outputs": [
    {
     "data": {
      "text/plain": [
       "'python in coding love I'"
      ]
     },
     "execution_count": 74,
     "metadata": {},
     "output_type": "execute_result"
    }
   ],
   "source": [
    "str1"
   ]
  },
  {
   "cell_type": "code",
   "execution_count": null,
   "id": "6dbb229e",
   "metadata": {},
   "outputs": [],
   "source": []
  }
 ],
 "metadata": {
  "kernelspec": {
   "display_name": "Python 3",
   "language": "python",
   "name": "python3"
  },
  "language_info": {
   "codemirror_mode": {
    "name": "ipython",
    "version": 3
   },
   "file_extension": ".py",
   "mimetype": "text/x-python",
   "name": "python",
   "nbconvert_exporter": "python",
   "pygments_lexer": "ipython3",
   "version": "3.8.8"
  }
 },
 "nbformat": 4,
 "nbformat_minor": 5
}
